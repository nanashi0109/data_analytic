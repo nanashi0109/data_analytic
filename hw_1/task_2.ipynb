{
 "cells": [
  {
   "cell_type": "code",
   "execution_count": 61,
   "id": "1e473a6f-6ff1-4903-b537-fade0b0c767f",
   "metadata": {},
   "outputs": [],
   "source": [
    "import numpy as np\n",
    "import csv\n",
    "from collections import Counter"
   ]
  },
  {
   "cell_type": "code",
   "execution_count": 63,
   "id": "35b269ba-f759-423a-8a96-22465dcfdc1b",
   "metadata": {},
   "outputs": [],
   "source": [
    "def get_data(path):\n",
    "    with open(path, \"r\", newline=\"\", encoding = \"utf-8\") as file:\n",
    "        reader = csv.reader(file)\n",
    "\n",
    "        collumns = [[], []]\n",
    "        for row in reader:\n",
    "            collumns[0].append(row[0])\n",
    "            collumns[1].append(row[1])\n",
    "        collumns[0].pop(0)\n",
    "        collumns[1].pop(0)\n",
    "\n",
    "        return collumns\n",
    "        \n",
    "data = get_data(\"attendance.csv\")"
   ]
  },
  {
   "cell_type": "code",
   "execution_count": 34,
   "id": "d5589800-c947-4e3c-b33f-ecbfd6137e7f",
   "metadata": {},
   "outputs": [
    {
     "data": {
      "text/plain": [
       "(array(['Понедельник', 'Вторник', 'Среда', 'Четверг', 'Пятница', 'Суббота',\n",
       "        'Воскресенье'], dtype='<U11'),\n",
       " array([120, 150,  90, 200, 300, 500, 450], dtype=int16))"
      ]
     },
     "execution_count": 34,
     "metadata": {},
     "output_type": "execute_result"
    }
   ],
   "source": [
    "days = np.array(data[0])\n",
    "visits = np.array(data[1], dtype=\"int16\")\n",
    "\n",
    "days, visits"
   ]
  },
  {
   "cell_type": "markdown",
   "id": "9a870a4e-d168-461b-8d8e-f1a39c121801",
   "metadata": {},
   "source": [
    "### **Среднее количество посещений**"
   ]
  },
  {
   "cell_type": "code",
   "execution_count": 35,
   "id": "07fa8664-ce5d-4a63-905a-227cf733f996",
   "metadata": {},
   "outputs": [
    {
     "data": {
      "text/plain": [
       "np.float64(258.57142857142856)"
      ]
     },
     "execution_count": 35,
     "metadata": {},
     "output_type": "execute_result"
    }
   ],
   "source": [
    "visits.mean()"
   ]
  },
  {
   "cell_type": "markdown",
   "id": "6539cd5a-7cd9-411b-ac5c-57d1b89c5796",
   "metadata": {},
   "source": [
    "### **Медиана посещаемости**"
   ]
  },
  {
   "cell_type": "code",
   "execution_count": 38,
   "id": "1e4f81df-0bba-4998-8082-00fc9bc310fe",
   "metadata": {},
   "outputs": [
    {
     "data": {
      "text/plain": [
       "np.float64(200.0)"
      ]
     },
     "execution_count": 38,
     "metadata": {},
     "output_type": "execute_result"
    }
   ],
   "source": [
    "np.median(visits)"
   ]
  },
  {
   "cell_type": "markdown",
   "id": "2079bede-6ba5-4e90-badb-aa4fbe52312b",
   "metadata": {},
   "source": [
    "### **Мода посещаемости**"
   ]
  },
  {
   "cell_type": "code",
   "execution_count": 47,
   "id": "a0d178cd-32d8-4c3b-9d89-0c5d7a91080d",
   "metadata": {},
   "outputs": [
    {
     "data": {
      "text/plain": [
       "np.int16(120)"
      ]
     },
     "execution_count": 47,
     "metadata": {},
     "output_type": "execute_result"
    }
   ],
   "source": [
    "Counter(visits).most_common()[0][0]"
   ]
  },
  {
   "cell_type": "markdown",
   "id": "78ae84c6-1aef-4732-b2ad-e3084fa86cc5",
   "metadata": {},
   "source": [
    "**Стандартное отклонение посещаемости**"
   ]
  },
  {
   "cell_type": "code",
   "execution_count": 50,
   "id": "de038edc-5587-4b8a-9d0f-1d5cb7547b20",
   "metadata": {},
   "outputs": [
    {
     "data": {
      "text/plain": [
       "np.float64(150.9426164785405)"
      ]
     },
     "execution_count": 50,
     "metadata": {},
     "output_type": "execute_result"
    }
   ],
   "source": [
    "np.sqrt( visits.var() )"
   ]
  },
  {
   "cell_type": "markdown",
   "id": "fe33e9d5-289f-4f19-9ab8-4c84c2912784",
   "metadata": {},
   "source": [
    "### **День с минимальной посещаемостью**"
   ]
  },
  {
   "cell_type": "code",
   "execution_count": 59,
   "id": "988a40be-aef7-47e3-a9a2-06db6be856ff",
   "metadata": {},
   "outputs": [
    {
     "data": {
      "text/plain": [
       "(np.str_('Среда'), np.int16(90))"
      ]
     },
     "execution_count": 59,
     "metadata": {},
     "output_type": "execute_result"
    }
   ],
   "source": [
    "index_min = visits.argmin()\n",
    "days[index_min], visits[index_min]"
   ]
  },
  {
   "cell_type": "markdown",
   "id": "43056014-819e-4231-a25e-4f00f368223f",
   "metadata": {},
   "source": [
    "### **День с максимальной посещаемостью**"
   ]
  },
  {
   "cell_type": "code",
   "execution_count": 60,
   "id": "7a670a5e-0533-4b94-804a-0256ee1df5df",
   "metadata": {},
   "outputs": [
    {
     "data": {
      "text/plain": [
       "(np.str_('Суббота'), np.int16(500))"
      ]
     },
     "execution_count": 60,
     "metadata": {},
     "output_type": "execute_result"
    }
   ],
   "source": [
    "max_index = visits.argmax()\n",
    "days[max_index], visits[max_index]"
   ]
  },
  {
   "cell_type": "code",
   "execution_count": null,
   "id": "3db3eb45-220c-4384-a3a8-47bce8102216",
   "metadata": {},
   "outputs": [],
   "source": []
  }
 ],
 "metadata": {
  "kernelspec": {
   "display_name": "Python 3 (ipykernel)",
   "language": "python",
   "name": "python3"
  },
  "language_info": {
   "codemirror_mode": {
    "name": "ipython",
    "version": 3
   },
   "file_extension": ".py",
   "mimetype": "text/x-python",
   "name": "python",
   "nbconvert_exporter": "python",
   "pygments_lexer": "ipython3",
   "version": "3.12.3"
  }
 },
 "nbformat": 4,
 "nbformat_minor": 5
}
